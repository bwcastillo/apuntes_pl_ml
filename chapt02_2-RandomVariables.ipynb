{
 "cells": [
  {
   "cell_type": "markdown",
   "id": "f0cccb24-a3b8-4663-8ee4-180a2df2a7df",
   "metadata": {},
   "source": [
    "# 2.2 Random Variables\n",
    "- If $X$ represent some unknown quantity of interest and/or could change, we call it a random variable _(rv)_.\n",
    "- The set of possible values, denoted $\\mathcal{X}$, is known as the **sample space** or **state space**.\n",
    "- **An event** is a set of outcomes from a given sample space. "
   ]
  },
  {
   "cell_type": "markdown",
   "id": "674efdea-cdcd-4d88-a068-854685cbb2e5",
   "metadata": {},
   "source": [
    "## 2.2.1 Discrete random variables\n",
    "\n",
    "If the sample space $\\mathcal{X}$ is finite or contably infinite, the $X$ is called a **discrete random variable**. In this case we denote the probability of the event that $X$ has value $x$ by $Pr(X=x)$. <br><br>\n",
    "A **probability mass function** or **pmf** is a function which computes the probability of events which correspond to setting the _rv_ to each possible value: \n",
    "$$p(x)\\triangleq Pr(X=x)$$\n",
    "The **pmf** satisfies the properties $0 \\leq p(x) \\leq 1$ and $\\sum_{x\\in \\mathcal{X}}p(x)=1$\n"
   ]
  },
  {
   "cell_type": "markdown",
   "id": "d1e2727c-b001-4997-8b15-3cecd5307218",
   "metadata": {},
   "source": [
    "## 2.2.2 Continuous random variables\n",
    "If $X \\in \\mathbb{R}$ is a real-valued quantity, it is called a continous random variable. In this case, we can no longer create a finite (or countable) set of distinct possible values if can take on. However, there are a contable number of intervarls which we can partition the real line into. <br>\n",
    "\n",
    "### 2.2.2.1 Cumulative distribution function\n",
    "Define the events $A =(X \\leq a)$, $B=(X \\leq b)$ and $C=(a < X\\leq b)$. We have that $B=A\\vee C$, and since $A$ and $C$ are mutually exclusive, **the sum rules gives** :\n",
    "$$Pr(B)=Pr(A)+Pr(C)$$\n",
    "and hence the probability of being in interval $C$ is given by\n",
    "$$P(C)=Pr(B)-Pr(A)$$\n",
    "In general we define the **cumulative distribution function** or **cdf** of the _rv_ as follow:\n",
    "$$Pr(x) \\triangleq Pr(X \\leq x)$$\n",
    "We use the capital $P$ to represent the **cdf**.<br>\n",
    "We can compute the probability of being in any interval as follow:\n",
    "$$Pr(a <X \\leq b) = P(b) - P(a)$$\n",
    "-CDF's are monotonically non-decreasing functions.\n",
    "\n",
    "### 2.2.2.3 Probability density function (pdf)\n",
    "We define the probability density function or pdf as the derivativa of the cdf:\n",
    "$$p(x) \\triangleq \\frac{d}{d_x}P(x)$$\n",
    "The derivativa is not always exist, in which case the pdf is not defined. <br>\n",
    "Given a pdf, we can compute the probability of a continuous variable being in a finite interval as follows:\n",
    "$$Pr(a<x\\leq b)= \\int_{a}^{b}p(x)dx=P(a)P(b)$$\n",
    "As the size of the interval get smaller, we can write \n",
    "$$Pr(x\\leq X \\leq x+dx) \\approx p(x)dx$$\n",
    "Intuitively, this says the probability of $X$ being in a small interval around $x$ is the density at $x$ times the width of the interval. "
   ]
  },
  {
   "cell_type": "code",
   "execution_count": null,
   "id": "de826a1c-9c16-4403-af7e-1699c4087729",
   "metadata": {},
   "outputs": [],
   "source": []
  }
 ],
 "metadata": {
  "kernelspec": {
   "display_name": "uai_cit",
   "language": "python",
   "name": "uai_cit"
  },
  "language_info": {
   "codemirror_mode": {
    "name": "ipython",
    "version": 3
   },
   "file_extension": ".py",
   "mimetype": "text/x-python",
   "name": "python",
   "nbconvert_exporter": "python",
   "pygments_lexer": "ipython3",
   "version": "3.11.4"
  }
 },
 "nbformat": 4,
 "nbformat_minor": 5
}
