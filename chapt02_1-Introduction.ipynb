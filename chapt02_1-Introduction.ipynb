{
 "cells": [
  {
   "cell_type": "markdown",
   "id": "f4efef25-cd23-4395-90c7-653ba0216c4b",
   "metadata": {},
   "source": [
    "## **2.1.3 Probability as extension of logic**\n",
    "\n",
    "### **2.1.3.1 Probability of a event** <br>\n",
    "\n",
    "- Event: denoted by the binary variable $A$, as some state of the world that either holds or does not -  hold. <br>\n",
    "- $Pr(A)$: denotes the probability with which you believe event $A$ is true (or the long run fraction of times that $A$ will occur).<br>\n",
    "\n",
    "### **2.1.3.2 Probability of a conjunction of two events** <br>\n",
    "- Joint probability<br>\n",
    "  $Pr(A\\wedge B)=Pr(A,B)$<br>\n",
    "  $Pr(A,B)=Pr(A)Pr(B)$\n",
    "  <br>\n",
    "\n",
    "### **2.1.3.3 Probability of a union of two events**<br>\n",
    "The probability of event $A$ or $B$ happening is given by: <br>\n",
    "  $$Pr(A\\vee B)=P(rA)+Pr(B)-Pr(A \\wedge B)$$<br>\n",
    "\n",
    "if the events are mutually exclusive (so they cannot happen at the same time), we get: <br>\n",
    "  $$Pr(A\\vee B) =Pr(A)+Pr(B)$$"
   ]
  },
  {
   "cell_type": "markdown",
   "id": "abb52207-8212-4cf6-99b5-42f5c074372c",
   "metadata": {},
   "source": [
    "### **Scripts for the Joint and Union probabilities**"
   ]
  },
  {
   "cell_type": "code",
   "execution_count": 10,
   "id": "e7db7ef1-8489-4136-8a57-8ca020bc6a02",
   "metadata": {},
   "outputs": [
    {
     "name": "stdin",
     "output_type": "stream",
     "text": [
      "Give me the prob A: 0.5\n",
      "Give me the prob B: 0.3\n"
     ]
    },
    {
     "name": "stdout",
     "output_type": "stream",
     "text": [
      "The Joint probability is:  0.15  and \n",
      "The Union probability is:  0.65 if the the events are dependent \n",
      "but the union probability is 0.8 if the events are exlusive.\n"
     ]
    }
   ],
   "source": [
    "prob_a=float(input(\"Give me the prob A:\"))\n",
    "prob_b=float(input(\"Give me the prob B:\"))\n",
    "#Joint probability \n",
    "joint_prob= prob_a*prob_b\n",
    "#Union probability\n",
    "union_prob=prob_a+prob_b-(prob_a*prob_b)\n",
    "union_prob_ind=prob_a+prob_b\n",
    "print(\"The Joint probability is: \",joint_prob,\" and \\nThe Union probability is: \",union_prob, \n",
    "      \"if the the events are dependent \\nbut the union probability is\", union_prob_ind, \"if the events are exlusive.\")"
   ]
  },
  {
   "cell_type": "code",
   "execution_count": 11,
   "id": "3662f39c-efff-4420-8ded-9e4c77b3cbcb",
   "metadata": {},
   "outputs": [
    {
     "name": "stdout",
     "output_type": "stream",
     "text": [
      "The union probability is bigger than the joint probability\n"
     ]
    }
   ],
   "source": [
    "if union_prob > joint_prob:\n",
    "    print(\"The union probability is bigger than the joint probability\")\n",
    "else:\n",
    "    print(\"The joint probability is bigger than the union probability\")"
   ]
  },
  {
   "cell_type": "markdown",
   "id": "89e27037-77e8-4d96-80d7-737b84920210",
   "metadata": {},
   "source": [
    "### **2.1.3.4 Conditional probability of one event given another**\n",
    "\n",
    "We define the conditional probability of event $B$ happening given that $A$ has ocurred as follow: <br>\n",
    "$$P(A|B)= \\frac{Pr(A,B)}{Pr(A)}$$\n",
    "\n",
    "### **2.1.3.5 Independence of events**\n",
    "We say that event $A$ is conditionally independent of event $B$ if: <br>\n",
    "$$Pr(A,B)=Pr(A)Pr(B)$$\n",
    "\n",
    "### **2.1.3.6 Condtionally independence of events**\n",
    "We say that <ins>events are</ins> conditionally independent given $C$ if:\n",
    "$$Pr(A,B|C)=Pr(A|C)P(B|C)$$ \n",
    "\n",
    "This is written as $A \\perp B|C$. Events are often dependent on each other, but may be rendered independent if we condition on the relevant intermediate variables."
   ]
  }
 ],
 "metadata": {
  "kernelspec": {
   "display_name": "uai_cit",
   "language": "python",
   "name": "uai_cit"
  },
  "language_info": {
   "codemirror_mode": {
    "name": "ipython",
    "version": 3
   },
   "file_extension": ".py",
   "mimetype": "text/x-python",
   "name": "python",
   "nbconvert_exporter": "python",
   "pygments_lexer": "ipython3",
   "version": "3.11.4"
  }
 },
 "nbformat": 4,
 "nbformat_minor": 5
}
