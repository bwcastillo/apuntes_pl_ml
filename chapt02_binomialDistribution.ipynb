{
 "cells": [
  {
   "cell_type": "code",
   "execution_count": 8,
   "id": "60b36b73-b3a6-43f9-9894-a1c58e0d7200",
   "metadata": {},
   "outputs": [],
   "source": [
    "import jax.numpy as jnp\n",
    "import jax\n",
    "import seaborn as sns\n",
    "import matplotlib.pyplot as plt\n",
    "from scipy.stats import binom\n"
   ]
  },
  {
   "cell_type": "code",
   "execution_count": 11,
   "id": "9e54d726-82d7-4deb-bccf-0c33221d4e8c",
   "metadata": {},
   "outputs": [
    {
     "data": {
      "text/plain": [
       "Array([ 0,  1,  2,  3,  4,  5,  6,  7,  8,  9, 10], dtype=int32)"
      ]
     },
     "execution_count": 11,
     "metadata": {},
     "output_type": "execute_result"
    }
   ],
   "source": []
  },
  {
   "cell_type": "code",
   "execution_count": 21,
   "id": "93d3e3df-24fd-45d5-bb30-7fcea1f271b4",
   "metadata": {},
   "outputs": [
    {
     "name": "stdout",
     "output_type": "stream",
     "text": [
      "[1.00000000e-10 9.00000000e-09 3.64500000e-07 8.74800000e-06\n",
      " 1.37781000e-04 1.48803480e-03 1.11602610e-02 5.73956280e-02\n",
      " 1.93710244e-01 3.87420489e-01 3.48678440e-01]\n",
      "[1.00000000e-10 9.00000000e-09 3.64500000e-07 8.74800000e-06\n",
      " 1.37781000e-04 1.48803480e-03 1.11602610e-02 5.73956280e-02\n",
      " 1.93710244e-01 3.87420489e-01 3.48678440e-01]\n",
      "[1.00000000e-10 9.00000000e-09 3.64500000e-07 8.74800000e-06\n",
      " 1.37781000e-04 1.48803480e-03 1.11602610e-02 5.73956280e-02\n",
      " 1.93710244e-01 3.87420489e-01 3.48678440e-01]\n",
      "[1.00000000e-10 9.00000000e-09 3.64500000e-07 8.74800000e-06\n",
      " 1.37781000e-04 1.48803480e-03 1.11602610e-02 5.73956280e-02\n",
      " 1.93710244e-01 3.87420489e-01 3.48678440e-01]\n"
     ]
    }
   ],
   "source": [
    "N = 10\n",
    "thetas = [0.25, 0.5, 0.75, 0.9]\n",
    "x = jnp.arange(0, N + 1)\n",
    "\n",
    "\n",
    "def make_graph(data):\n",
    "    plt.figure()\n",
    "    x = data[\"x\"]\n",
    "    n = data[\"n\"]\n",
    "    theta = data[\"theta\"]\n",
    "\n",
    "    probs = binom.pmf(x, n, theta)\n",
    "    title = r\"$\\theta=\" + str(theta) + \"$\"\n",
    "\n",
    "    plt.bar(x, probs, align=\"center\")\n",
    "    plt.xlim([min(x) - 0.5, max(x) + 0.5])\n",
    "    plt.ylim([0, 0.4])\n",
    "    plt.xticks(x)\n",
    "    plt.xlabel(\"$x$\")\n",
    "    plt.ylabel(\"$p(x)$\")\n",
    "    plt.title(title)\n",
    "    sns.despine()\n",
    "    #savefig(\"binomDistTheta\" + str(int(theta * 100)) + \".pdf\")\n",
    "\n",
    "\n",
    "for theta in thetas:\n",
    "    data = {\"x\": x, \"n\": N, \"theta\": theta}\n",
    "    x = data[\"x\"]\n",
    "    n = data[\"n\"]\n",
    "    theta = data[\"theta\"]\n",
    "    print(binom.pmf(x, n, 0.9))\n",
    "    #print(data)\n",
    "    #make_graph(data)"
   ]
  },
  {
   "cell_type": "code",
   "execution_count": 23,
   "id": "e158a491-d842-45d6-9f2c-6e6f64417831",
   "metadata": {},
   "outputs": [
    {
     "data": {
      "text/plain": [
       "Array([ 0,  1,  2,  3,  4,  5,  6,  7,  8,  9, 10], dtype=int32)"
      ]
     },
     "execution_count": 23,
     "metadata": {},
     "output_type": "execute_result"
    }
   ],
   "source": [
    "x"
   ]
  },
  {
   "cell_type": "code",
   "execution_count": 28,
   "id": "16b92529-4f3c-46bd-bc45-7a180899bb28",
   "metadata": {},
   "outputs": [
    {
     "data": {
      "text/plain": [
       "10"
      ]
     },
     "execution_count": 28,
     "metadata": {},
     "output_type": "execute_result"
    }
   ],
   "source": [
    "N"
   ]
  },
  {
   "cell_type": "code",
   "execution_count": 40,
   "id": "9ec0a15f-1ce1-4e99-a22b-f49a8fa36bbb",
   "metadata": {},
   "outputs": [
    {
     "name": "stdout",
     "output_type": "stream",
     "text": [
      "0.5631351470947266\n"
     ]
    }
   ],
   "source": [
    "import math\n",
    "N=10\n",
    "k=1\n",
    "theta=0.25\n",
    "bin_coef=math.factorial(N)/(math.factorial(N-k)*math.factorial(k))\n",
    "s=1  #Number of heads\n",
    "print((bin_coef)*(theta**s)*((1-theta)**(N-s)))"
   ]
  },
  {
   "cell_type": "code",
   "execution_count": 64,
   "id": "1dec1a6d-577d-4d25-b397-2b94903eb9fe",
   "metadata": {},
   "outputs": [],
   "source": [
    "def prob_tosscoin(x,theta):\n",
    "    N=10\n",
    "    k=x\n",
    "    theta=theta\n",
    "    bin_coef=math.factorial(N)/(math.factorial(N-k)*math.factorial(k))\n",
    "    s=x  #Number of heads\n",
    "    prob=(bin_coef)*(theta**s)*((1-theta)**(N-s))\n",
    "    return prob"
   ]
  },
  {
   "cell_type": "code",
   "execution_count": 68,
   "id": "5d32723e-8090-40ec-95c2-924bb1083860",
   "metadata": {},
   "outputs": [
    {
     "name": "stdout",
     "output_type": "stream",
     "text": [
      "0.0009765625\n",
      "0.009765625\n",
      "0.0439453125\n",
      "0.1171875\n",
      "0.205078125\n",
      "0.24609375\n",
      "0.205078125\n",
      "0.1171875\n",
      "0.0439453125\n",
      "0.009765625\n",
      "0.0009765625\n"
     ]
    }
   ],
   "source": [
    "prob_toss=list()\n",
    "for toss in range(0,N+1):\n",
    "    toss_n=prob_tosscoin(toss,0.5)\n",
    "    prob_toss.append(toss_n)\n",
    "    print(prob_tosscoin(toss,0.5))"
   ]
  },
  {
   "cell_type": "code",
   "execution_count": 69,
   "id": "df436da6-1576-484c-b362-8561f439a962",
   "metadata": {},
   "outputs": [
    {
     "data": {
      "text/plain": [
       "<BarContainer object of 11 artists>"
      ]
     },
     "execution_count": 69,
     "metadata": {},
     "output_type": "execute_result"
    },
    {
     "data": {
      "image/png": "[encoded data removed]",
      "text/plain": [
       "<Figure size 640x480 with 1 Axes>"
      ]
     },
     "metadata": {},
     "output_type": "display_data"
    }
   ],
   "source": [
    "plt.bar(x, prob_toss, align=\"center\")"
   ]
  },
  {
   "cell_type": "code",
   "execution_count": 63,
   "id": "0af2250f-b94c-4e1d-bc09-d7b880da52f9",
   "metadata": {},
   "outputs": [
    {
     "data": {
      "text/plain": [
       "1.0"
      ]
     },
     "execution_count": 63,
     "metadata": {},
     "output_type": "execute_result"
    }
   ],
   "source": [
    "sum(prob_toss)"
   ]
  },
  {
   "cell_type": "code",
   "execution_count": 56,
   "id": "7da63bc1-5aae-4371-8611-0a8f1a344804",
   "metadata": {},
   "outputs": [
    {
     "data": {
      "text/plain": [
       "np.float64(0.9999999999999997)"
      ]
     },
     "execution_count": 56,
     "metadata": {},
     "output_type": "execute_result"
    }
   ],
   "source": [
    "sum(binom.pmf(x, N, 0.25))"
   ]
  },
  {
   "cell_type": "code",
   "execution_count": 30,
   "id": "fe5ad6d0-7214-40fe-8a14-3bb8533e837e",
   "metadata": {},
   "outputs": [
    {
     "name": "stdout",
     "output_type": "stream",
     "text": [
      "[5.63135147e-02 1.87711716e-01 2.81567574e-01 2.50282288e-01\n",
      " 1.45998001e-01 5.83992004e-02 1.62220001e-02 3.08990479e-03\n",
      " 3.86238098e-04 2.86102295e-05 9.53674316e-07]\n"
     ]
    }
   ],
   "source": [
    "print(binom.pmf(x, N, 0.25))"
   ]
  },
  {
   "cell_type": "code",
   "execution_count": 29,
   "id": "0acf42e3-8167-48da-a068-32a977bad986",
   "metadata": {},
   "outputs": [
    {
     "data": {
      "image/png": "[encoded data removed]",
      "text/plain": [
       "<Figure size 640x480 with 1 Axes>"
      ]
     },
     "metadata": {},
     "output_type": "display_data"
    }
   ],
   "source": [
    "make_graph({\"x\": x, \"n\": N, \"theta\": 0.25})"
   ]
  },
  {
   "cell_type": "code",
   "execution_count": null,
   "id": "bbaf86bc-dcbe-451e-a3fc-1845263c3135",
   "metadata": {},
   "outputs": [],
   "source": []
  }
 ],
 "metadata": {
  "kernelspec": {
   "display_name": "uai_cit",
   "language": "python",
   "name": "uai_cit"
  },
  "language_info": {
   "codemirror_mode": {
    "name": "ipython",
    "version": 3
   },
   "file_extension": ".py",
   "mimetype": "text/x-python",
   "name": "python",
   "nbconvert_exporter": "python",
   "pygments_lexer": "ipython3",
   "version": "3.11.4"
  }
 },
 "nbformat": 4,
 "nbformat_minor": 5
}
