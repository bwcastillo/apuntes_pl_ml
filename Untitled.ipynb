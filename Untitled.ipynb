{
 "cells": [
  {
   "attachments": {
    "3b5dfd6f-d6c4-4660-b06b-e7349d6061e4.png": {
     "image/png": "[encoded data removed]"
    }
   },
   "cell_type": "markdown",
   "id": "646e4486-4f79-47ed-927a-b6d199a80a70",
   "metadata": {},
   "source": [
    "## Univariate models \n",
    "\n",
    "### 2.2.3 Sets of related random variables\n",
    "\n",
    "In this section, we discuss distributions over sets of related random variables. Suppose, to start, that we have two random variables, X and Y . We can define the joint distribution of two random variables using $p(x, \\ y) = p(X = x, Y = y)$ for all possible values of $X$ and $Y$. If both variables have finite cardinality, we can represent the joint distribution as a 2d table, all of whose entries sum to one:\n",
    "\n",
    "![image.png](attachment:3b5dfd6f-d6c4-4660-b06b-e7349d6061e4.png)"
   ]
  },
  {
   "cell_type": "code",
   "execution_count": null,
   "id": "79ad938c-8b56-42c5-a3e2-81149de12cef",
   "metadata": {},
   "outputs": [],
   "source": []
  }
 ],
 "metadata": {
  "kernelspec": {
   "display_name": "uai_cit",
   "language": "python",
   "name": "uai_cit"
  },
  "language_info": {
   "codemirror_mode": {
    "name": "ipython",
    "version": 3
   },
   "file_extension": ".py",
   "mimetype": "text/x-python",
   "name": "python",
   "nbconvert_exporter": "python",
   "pygments_lexer": "ipython3",
   "version": "3.11.4"
  }
 },
 "nbformat": 4,
 "nbformat_minor": 5
}
